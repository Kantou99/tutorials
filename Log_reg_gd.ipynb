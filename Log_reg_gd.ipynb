def compute_gradient_logistics (x, y, w, b):
 """
     Computes the gradient for logistic regression 
    Args:
    X (ndarray(m,n)): m examples of  n features
    y (ndarray(m,))  : target values
    w (ndarray(n,))   : model parameter for each m
    b (scalar)      : model parameter

    returns 
    dj_dw (ndarray(n,)): the gradient of the cost w,r.t to w.
    dj-db (scalar)  : the gradient of the cost w.r.t to b
 """

 m,n = X.shape
 dj_dw = np.zeros((n,))      #n
 dj_db= 0
 for i in range (m):
    f_wb_i = sigmoid(np.dot(X[i], w) + b)
    err_i = f_wb_i - y[i]
    for j in range (n):
      dj_dw[j] = dj_dw[j] + err_i * X[i,j]
    dj_db[j] = dj_db[j] + err_i
 dj_dw = dj_dw / m
 dj_db = dj_db / m
 return dj_dw, dj_db
